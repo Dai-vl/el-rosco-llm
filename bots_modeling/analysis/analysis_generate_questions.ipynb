{
 "cells": [
  {
   "cell_type": "markdown",
   "metadata": {},
   "source": [
    "# Análisis de la generación de preguntas"
   ]
  },
  {
   "cell_type": "code",
   "execution_count": 1,
   "metadata": {},
   "outputs": [],
   "source": [
    "from openai import OpenAI\n",
    "import os\n",
    "from dotenv import load_dotenv\n",
    "from tqdm import tqdm\n",
    "import matplotlib.pyplot as plt\n",
    "import random\n",
    "import string\n",
    "import requests"
   ]
  },
  {
   "cell_type": "code",
   "execution_count": 2,
   "metadata": {},
   "outputs": [],
   "source": [
    "load_dotenv()\n",
    "apiKey = os.getenv(\"API_KEY\")\n",
    "client_openai = OpenAI(api_key=apiKey)\n",
    "\n",
    "size = 250\n",
    "\n",
    "API_DIR = 'gpt-3.5-turbo'\n",
    "GENERATE_DIR = 'ft:gpt-3.5-turbo-0125:tfg:pruebapreguntas9:9KUIXy4j'\n",
    "WIKIPEDIA_DIR = 'https://en.wikipedia.org/w/rest.php/v1/search/page?q='"
   ]
  },
  {
   "cell_type": "code",
   "execution_count": 3,
   "metadata": {},
   "outputs": [
    {
     "data": {
      "text/plain": [
       "232"
      ]
     },
     "execution_count": 3,
     "metadata": {},
     "output_type": "execute_result"
    }
   ],
   "source": [
    "random_letters = random.choices(string.ascii_lowercase, k=size)\n",
    "random_letters = [letter for letter in random_letters if letter not in ['w', 'k']]\n",
    "len(random_letters)"
   ]
  },
  {
   "cell_type": "markdown",
   "metadata": {},
   "source": [
    "### Funciones para generar las preguntas"
   ]
  },
  {
   "cell_type": "code",
   "execution_count": 4,
   "metadata": {},
   "outputs": [],
   "source": [
    "def generate_words(model, function, temp=1.1, max_tokens = 10, random_letters=random_letters):\n",
    "\twords = []\n",
    "\tfor letter in tqdm(random_letters, desc='Generating words'):\n",
    "\t\tprompt = function(letter)\n",
    "\t\tresponse = client_openai.chat.completions.create(\n",
    "\t\t\tmodel=model,\n",
    "\t\t\tmessages=[\n",
    "\t\t\t\t{'role': 'user', 'content': prompt}\n",
    "\t\t\t],\n",
    "\t\t\ttemperature = temp,\n",
    "\t\t\tmax_tokens = max_tokens\n",
    "\t\t)\n",
    "\t\twords.append((letter, response.choices[0].message.content))\n",
    "\treturn words\n",
    "\n",
    "def generate_desc_words(words, model, function, temp=1.1, max_tokens = 50):\n",
    "\tdesc_words = []\n",
    "\tfor letter, word in tqdm(words, desc='Generating descriptions'):\n",
    "\t\tprompt = function(word)\n",
    "\t\tresponse = client_openai.chat.completions.create(\n",
    "\t\t\tmodel=model,\n",
    "\t\t\tmessages=[\n",
    "\t\t\t\t{'role': 'user', 'content': prompt}\n",
    "\t\t\t],\n",
    "\t\t\ttemperature = temp,\n",
    "\t\t\tmax_tokens = max_tokens\n",
    "\t\t)\n",
    "\t\tdesc_words.append((letter, word, response.choices[0].message.content))\n",
    "\treturn desc_words"
   ]
  },
  {
   "cell_type": "markdown",
   "metadata": {},
   "source": [
    "### Funciones para medir la calidad de las preguntas"
   ]
  },
  {
   "cell_type": "code",
   "execution_count": 5,
   "metadata": {},
   "outputs": [],
   "source": [
    "def valid_words(words):\n",
    "\tnot_valid =0\n",
    "\n",
    "\tfor letter, word in tqdm(words, desc='Validating words'):\n",
    "\t\tif (letter.lower() not in word.lower()) or (\" \" in word):\n",
    "\t\t\tnot_valid += 1\n",
    "\t\t\tprint(f\"Error: \\'{word}\\' not valid for \\'{letter}\\'\")\n",
    "\t\twiki = WIKIPEDIA_DIR + word.lower()\n",
    "\t\tresp = requests.get(wiki)\n",
    "\t\tif resp.status_code != 200:\n",
    "\t\t\tnot_valid += 1\n",
    "\t\t\tprint(f\"Error: \\'{word}\\' not found in Wikipedia\")\n",
    "\n",
    "\treturn round((not_valid / len(words))*100, 2)\n",
    "\n",
    "def valid_descs(descs, function):\n",
    "\tnot_accurate =0\n",
    "\tnot_valid = 0\n",
    "\n",
    "\tfor letter, word, desc in descs:\n",
    "\t\tif word.lower() in desc.lower():\n",
    "\t\t\tnot_valid += 1\n",
    "\t\t\tbreak\n",
    "\t\tpromptDesc = function(word, desc)\n",
    "\t\tresponse = client_openai.chat.completions.create(\n",
    "\t\t\tmodel=API_DIR,\n",
    "\t\t\tmessages=[\n",
    "\t\t\t\t{'role': 'user', 'content': promptDesc}\n",
    "\t\t\t],\n",
    "\t\t\ttemperature = 0.5,\n",
    "\t\t\tmax_tokens = 2\n",
    "\t\t)\n",
    "\t\tif response.choices[0].message.content.lower() == 'no':\n",
    "\t\t\tnot_accurate += 1\n",
    "\t\t\tprint(f\"\\'{word}\\' - \\'{desc}\\' not valid\")\n",
    "\t\telif response.choices[0].message.content.lower() != 'yes':\n",
    "\t\t\tprint('Error:', response.choices[0].message.content)\n",
    "\t\n",
    "\tnot_valid = round((not_valid / len(descs))*100, 2)\n",
    "\tnot_accurate = round((not_accurate / len(descs))*100, 2)\n",
    "\treturn not_valid, not_accurate"
   ]
  },
  {
   "cell_type": "markdown",
   "metadata": {},
   "source": [
    "### Funciones para mostrar los gráficos"
   ]
  },
  {
   "cell_type": "code",
   "execution_count": 9,
   "metadata": {},
   "outputs": [],
   "source": [
    "def generate_words_chart(metrics_api, metrics_model):\n",
    "    bars_api = 100 - metrics_api\n",
    "    bars_model = 100 - metrics_model\n",
    "\n",
    "    plt.figure(figsize=(8, 4))\n",
    "    bar_width = 0.35\n",
    "    index = [0, 1]\n",
    "    plt.bar(index, [bars_api, bars_model], bar_width, label=['API sin entrenar', 'Modelo entrenado'], color=['dodgerblue', 'red'])\n",
    "    plt.xlabel('Modelo')\n",
    "    plt.ylabel('Palabras válidas (%)')\n",
    "    plt.title('Palabras válidas generadas por API y Modelo')\n",
    "    plt.xticks(index, ['API', 'Modelo'])\n",
    "    #plt.legend()\n",
    "    # plt.ylim(0, 100)\n",
    "\n",
    "    for i, bar in enumerate([bars_api, bars_model]):\n",
    "        plt.text(i, bar - 25, f'{bar}%', ha='center', color='white')\n",
    "\n",
    "    plt.tight_layout()\n",
    "\n",
    "def generate_descs_bar_chart(not_valid_desc_api, not_valid_desc_model, not_acc_desc_api, not_acc_desc_model):\n",
    "    labels = ['No Válida - API', 'No Válida - Modelo', 'Mala descripción - API', 'Mala descripción - Modelo']\n",
    "    values = [not_valid_desc_api, not_valid_desc_model, not_acc_desc_api, not_acc_desc_model]\n",
    "\n",
    "    plt.figure(figsize=(8, 4))\n",
    "    colors = ['blue', 'red', 'lightblue', 'lightcoral']\n",
    "    plt.bar(labels, values, color=colors)\n",
    "    \n",
    "    plt.xlabel('Modelo')\n",
    "    plt.ylabel('Porcentaje de descripciones (%)')\n",
    "    plt.title(f'Distribución de la calidad de las descripciones por modelo')\n",
    "    plt.ylim(0, 50)\n",
    "\n",
    "    for i, value in enumerate(values):\n",
    "        plt.text(i, value + 1, f'{value}%', ha='center', color='black')\n",
    "\n",
    "    plt.tight_layout()\n",
    "    plt.show()"
   ]
  },
  {
   "cell_type": "markdown",
   "metadata": {},
   "source": [
    "## API de OpenAI sin entrenar"
   ]
  },
  {
   "cell_type": "markdown",
   "metadata": {},
   "source": [
    "Primero se saca una palabra con ese tema, luego una definición para esa palabra."
   ]
  },
  {
   "cell_type": "code",
   "execution_count": 52,
   "metadata": {},
   "outputs": [],
   "source": [
    "def promp_question_api(letter):\n",
    "\treturn f'Generate only, without any unnecessary message and without punctuation, a word that exists in English, that starts with the letter {letter} that has to do with anything\\n'\n",
    " \n",
    "def prompt_desc_api(word):\n",
    "\treturn f'Generate a definition of the word \"{word}\" in 20 words. Include essential information about its meaning and common use. It has to do with anything\\n'\n",
    "\n",
    "def prompt_valid_desc(word, desc):\n",
    "    return f\"Now: Answer yes or no: Does this description: '{desc}' represent the word '{word}'?\""
   ]
  },
  {
   "cell_type": "code",
   "execution_count": 53,
   "metadata": {},
   "outputs": [
    {
     "name": "stderr",
     "output_type": "stream",
     "text": [
      "Generating words:   0%|          | 0/225 [00:00<?, ?it/s]"
     ]
    },
    {
     "name": "stderr",
     "output_type": "stream",
     "text": [
      "Generating words: 100%|██████████| 225/225 [01:33<00:00,  2.40it/s]\n",
      "Validating words:  90%|█████████ | 203/225 [02:18<00:16,  1.37it/s]"
     ]
    },
    {
     "name": "stdout",
     "output_type": "stream",
     "text": [
      "Error: 'gasoline' not valid for 'b'\n"
     ]
    },
    {
     "name": "stderr",
     "output_type": "stream",
     "text": [
      "Validating words: 100%|██████████| 225/225 [02:33<00:00,  1.47it/s]\n"
     ]
    }
   ],
   "source": [
    "words = generate_words(API_DIR, promp_question_api)\n",
    "not_valid_api = valid_words(words)"
   ]
  },
  {
   "cell_type": "code",
   "execution_count": 54,
   "metadata": {},
   "outputs": [
    {
     "name": "stderr",
     "output_type": "stream",
     "text": [
      "Generating descriptions: 100%|██████████| 225/225 [03:09<00:00,  1.18it/s]\n"
     ]
    }
   ],
   "source": [
    "descriptions = generate_desc_words(words, API_DIR, prompt_desc_api)\n",
    "not_valid_desc_api, not_accurate_desc_api = valid_descs(descriptions, prompt_valid_desc)"
   ]
  },
  {
   "cell_type": "markdown",
   "metadata": {},
   "source": [
    "## Modelo entrenado"
   ]
  },
  {
   "cell_type": "code",
   "execution_count": 55,
   "metadata": {},
   "outputs": [],
   "source": [
    "def prompt_generate_model(letter):\n",
    "\treturn f\"Give me a single word, definition and difficulty (Easy, Medium or Hard) that starts with or contains the letter '{letter}' related to anything\""
   ]
  },
  {
   "cell_type": "code",
   "execution_count": 56,
   "metadata": {},
   "outputs": [
    {
     "name": "stderr",
     "output_type": "stream",
     "text": [
      "Generating words:   0%|          | 0/225 [00:00<?, ?it/s]"
     ]
    },
    {
     "name": "stderr",
     "output_type": "stream",
     "text": [
      "Generating words: 100%|██████████| 225/225 [02:49<00:00,  1.33it/s]\n"
     ]
    }
   ],
   "source": [
    "questions = generate_words(GENERATE_DIR, prompt_generate_model, temp=0.8, max_tokens=50)"
   ]
  },
  {
   "cell_type": "code",
   "execution_count": 57,
   "metadata": {},
   "outputs": [
    {
     "name": "stderr",
     "output_type": "stream",
     "text": [
      "Validating words: 100%|██████████| 225/225 [02:30<00:00,  1.49it/s]\n"
     ]
    }
   ],
   "source": [
    "words_model = [(letter, word.split('|')[0].strip()) for letter, word in questions]\n",
    "not_valid_model = valid_words(words_model)\n",
    "\n",
    "descriptions_model = [(letter, word.split('|')[0].strip(), word.split('|')[1].strip()) for letter, word in questions]\n",
    "not_valid_desc_model, not_accurate_desc_model = valid_descs(descriptions_model, prompt_valid_desc)"
   ]
  },
  {
   "cell_type": "markdown",
   "metadata": {},
   "source": [
    "## Resultados"
   ]
  },
  {
   "cell_type": "code",
   "execution_count": 11,
   "metadata": {},
   "outputs": [
    {
     "data": {
      "image/png": "[encoded data removed]",
      "text/plain": [
       "<Figure size 800x400 with 1 Axes>"
      ]
     },
     "metadata": {},
     "output_type": "display_data"
    }
   ],
   "source": [
    "generate_words_chart(not_valid_api, not_valid_model)"
   ]
  },
  {
   "cell_type": "code",
   "execution_count": 70,
   "metadata": {},
   "outputs": [
    {
     "data": {
      "image/png": "[encoded data removed]",
      "text/plain": [
       "<Figure size 800x400 with 1 Axes>"
      ]
     },
     "metadata": {},
     "output_type": "display_data"
    }
   ],
   "source": [
    "generate_descs_bar_chart(not_valid_desc_api, not_valid_desc_model, not_accurate_desc_api, not_accurate_desc_model)"
   ]
  }
 ],
 "metadata": {
  "kernelspec": {
   "display_name": "Python 3",
   "language": "python",
   "name": "python3"
  },
  "language_info": {
   "codemirror_mode": {
    "name": "ipython",
    "version": 3
   },
   "file_extension": ".py",
   "mimetype": "text/x-python",
   "name": "python",
   "nbconvert_exporter": "python",
   "pygments_lexer": "ipython3",
   "version": "3.10.12"
  }
 },
 "nbformat": 4,
 "nbformat_minor": 2
}
